{
 "cells": [
  {
   "cell_type": "markdown",
   "metadata": {},
   "source": [
    "# Numerical Solutions of 1st-order ODEs\n",
    "\n",
    "For numerically solving definite integrals ($\\int_a^b f(x) dx$) we have methods like the trapezoidal rule and Simpson's rule. When we need to solve 1st-order ODEs of the form\n",
    "$$\n",
    "y^{\\prime} = \\frac{dy}{dx} = f(x, y)\n",
    "$$\n",
    "for $y(x)$, we need other methods. All of them will work by starting at the initial conditions, and then using information provided by the ODE to march forward in the solution, based on an increment (i.e., step size) $\\Delta x$.\n",
    "\n",
    "For example, let's say we want to solve \n",
    "$$\n",
    "\\frac{dy}{dx} = 4 x - \\frac{2 y}{x} \\;, \\quad y(1) = 1\n",
    "$$\n",
    "This problem is fairly simple, and we can find the general and particular solutions to compare our numerical results against:\n",
    "\\begin{align}\n",
    "\\text{general: } y(x) &= x^2 + \\frac{x}{x^2} \\\\\n",
    "\\text{particular: } y(x) &= x^2\n",
    "\\end{align}\n",
    "\n",
    "Recall that the derivative, $y^{\\prime}$, is the same as the slope. At the starting point, $(x,y) = (1,1)$, where $y^{\\prime} = 2$, this looks like:"
   ]
  },
  {
   "cell_type": "code",
   "execution_count": 12,
   "metadata": {},
   "outputs": [
    {
     "data": {
      "image/png": "[encoded data removed]",
      "text/plain": [
       "<IPython.core.display.Image object>"
      ]
     },
     "metadata": {},
     "output_type": "display_data"
    }
   ],
   "source": [
    "x = linspace(1, 3);\n",
    "y = x.^2;\n",
    "plot(x, y); hold on\n",
    "plot([1, 2], [1, 3], '--')\n",
    "legend(['Solution'], ['Slope at start'])\n",
    "hold off"
   ]
  },
  {
   "cell_type": "markdown",
   "metadata": {},
   "source": [
    "Remember that the slope, or derivative, is\n",
    "\\begin{equation}\n",
    "\\text{slope} = \\frac{\\text{rise}}{\\text{run}} = \\frac{\\Delta y}{\\Delta x}\n",
    "\\end{equation}\n",
    "\n",
    "Let's consider the initial condition—the starting point—as $(x_i, y_i)$, and the next point in our numerical solution is $(x_{i+1}, y_{i+1})$, where $i$ represents an index starting at 1 and ending at the number of steps $N$. Our step size is then $\\Delta x = x_{i+1} - x_i$.\n",
    "\n",
    "Based on our (very simple) approximation to the first derivative based on slope, we can relate the derivative to our two points:\n",
    "\\begin{equation}\n",
    "\\left(\\frac{dy}{dx}\\right)_{i} = \\frac{y_{i+1} - y_i}{x_{i+1} - x_i} = \\frac{y_{i+1} - y_i}{\\Delta x}\n",
    "\\end{equation}\n",
    "Then, solve this for our unknown:\n",
    "\\begin{equation}\n",
    "y_{i+1} = y_i + \\left(\\frac{dy}{dx}\\right)_i \\Delta x\n",
    "\\end{equation}\n",
    "This is the **Forward Euler method**."
   ]
  },
  {
   "cell_type": "code",
   "execution_count": null,
   "metadata": {},
   "outputs": [],
   "source": []
  }
 ],
 "metadata": {
  "kernelspec": {
   "display_name": "Matlab",
   "language": "matlab",
   "name": "matlab"
  },
  "language_info": {
   "codemirror_mode": "octave",
   "file_extension": ".m",
   "help_links": [
    {
     "text": "MetaKernel Magics",
     "url": "https://metakernel.readthedocs.io/en/latest/source/README.html"
    }
   ],
   "mimetype": "text/x-octave",
   "name": "matlab",
   "version": "0.16.7"
  }
 },
 "nbformat": 4,
 "nbformat_minor": 2
}
