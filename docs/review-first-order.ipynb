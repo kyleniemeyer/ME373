{
 "cells": [
  {
   "cell_type": "markdown",
   "metadata": {},
   "source": [
    "# Solutions to 1st-order ODEs\n",
    "\n",
    "## 1. Solution by direct integration\n",
    "\n",
    "When equations are of this form, we can directly integrate:\n",
    "\n",
    "\\begin{align}\n",
    "\\frac{dy}{dx} &= y^{\\prime} = f(x) \\\\\n",
    "\\int dy &= \\int f(x) dx \\\\\n",
    "y(x) &= \\int f(x) dx + C\n",
    "\\end{align}\n",
    "\n",
    "For example:\n",
    "\\begin{align}\n",
    "\\frac{dy}{dx} &= x^2 \\\\\n",
    "y(x) &= \\frac{1}{3} x^3 + C\n",
    "\\end{align}\n",
    "\n",
    "While these problems look simple, there may not be an obvious closed-form solution to all:\n",
    "\n",
    "\\begin{align}\n",
    "\\frac{dy}{dx} &= e^{-x^2} \\\\\n",
    "y(x) &= \\int e^{-x^2} dx + C\n",
    "\\end{align}\n",
    "\n",
    "(You may recognize this as leading to the error function, $\\text{erf}$:\n",
    "$\\frac{1}{2} \\sqrt{\\pi} \\text{erf}(x) + C$,\n",
    "so the exact solution to the integral over the range $[0,1]$ is 0.7468.)"
   ]
  },
  {
   "cell_type": "markdown",
   "metadata": {},
   "source": [
    "## 2. Solution by separation of variables\n",
    "\n",
    "If the given derivative is a separate function of $x$ and $y$, then we can solve via separation of variables:\n",
    "\\begin{align}\n",
    "\\frac{dy}{dx} &= f(x) g(y) = \\frac{h(x)}{j(y)} \\\\\n",
    "\\int \\frac{1}{g(y)} dy &= \\int f(x) dx\n",
    "\\end{align}\n",
    "\n",
    "For example, consider this problem:\n",
    "\\begin{equation}\n",
    "y^{\\prime} = \\frac{dy}{dx} = 1 + y^2 \\\\\n",
    "\\end{equation}\n",
    "We can separate this into a problem that looks like $f(y) dy = g(x) dx$, where $dy = \\frac{1}{1+y^2}$ and $g(x) = 1$.\n",
    "\\begin{align}\n",
    "\\int \\frac{dy}{1 + y^2} &= \\int dx \\\\\n",
    "\\arctan y &= x + c \\\\\n",
    "y(x) &= \\tan(x+c)\n",
    "\\end{align}\n",
    "\n",
    "Unfortunately, not every separable ODE can be integrated:\n",
    "\\begin{align}\n",
    "\\frac{dy}{dx} &= \\frac{e^x / 2 + 5}{y^2 + \\cos y} \\\\\n",
    "(y^2 + \\cos y) dy &= (e^x / 2 + 5) dx\n",
    "\\end{align}"
   ]
  },
  {
   "cell_type": "markdown",
   "metadata": {},
   "source": [
    "## 3. General solution to linear 1st-order ODEs\n",
    "\n",
    "Given a general linear 1st-order ODE of the form\n",
    "\\begin{equation}\n",
    "\\frac{dy}{dx} + p(x) y = q(x)\n",
    "\\end{equation}\n",
    "we can solve by integration factor:\n",
    "\\begin{equation}\n",
    "y(x) = e^{-\\int p(x) dx} \\left[ \\int e^{\\int p(x) dx} q(x) dx + C \\right]\n",
    "\\end{equation}\n",
    "\n",
    "For example, in this equation\n",
    "\\begin{equation}\n",
    "y^{\\prime} + xy - 5 e^x = 0\n",
    "\\end{equation}\n",
    "after rearranging to the standard form\n",
    "\\begin{equation}\n",
    "y^{\\prime} + xy = 5 e^x\n",
    "\\end{equation}\n",
    "we see that $p(x) = x$ and $q(x) = 5e^x$."
   ]
  },
  {
   "cell_type": "markdown",
   "metadata": {},
   "source": [
    "## 4. Solution to nonlinear 1st-order ODEs\n",
    "\n",
    "Given a general nonlinear 1st-order ODE\n",
    "\\begin{equation}\n",
    "\\frac{dy}{dx} + p(x) y = q(x) y^a \n",
    "\\end{equation}\n",
    "where $a \\neq 1$ and $a$ is a constant. This is known as the Bernoulli equation.\n",
    "\n",
    "We can solve by transforming to a linear equation, by changing the dependent variable from $y$ to $z$:\n",
    "\\begin{align}\n",
    "\\text{let} \\quad z &= y^{1-a} \\\\\n",
    "\\frac{dz}{dx} &= (1-a) y^{-a} \\frac{dy}{dx}\n",
    "\\end{align}\n",
    "Multiply the original equation by $(1-a) y^{-a}$:\n",
    "\\begin{align}\n",
    "(1-a) y^{-a} \\frac{dy}{dx} + (1-a) y^{-a} p(x) y &= (1-a) y^{-a} q(x) y^a \\\\\n",
    "\\frac{dz}{dx} + p(x) (1-a) z &= q(x) (1-a) \\;,\n",
    "\\end{align}\n",
    "which is now a *linear* first-order ODE, that looks like\n",
    "\\begin{equation}\n",
    "\\frac{dz}{dx} + p(x)^{\\prime} z = q(x)^{\\prime}\n",
    "\\end{equation}\n",
    "where $p(x)^{\\prime} = (1-a) p(x)$ and $q(x)^{\\prime} = (1-a)q(x)$. \n",
    "\n",
    "We can solve this using the integrating-factor approach discussed above. Then, once we have $z(x)$, we can find $y(x)$:\n",
    "\\begin{align}\n",
    "z &= y^{1-a} \\\\\n",
    "y &= z^{\\frac{1}{1-a}}\n",
    "\\end{align}"
   ]
  }
 ],
 "metadata": {
  "kernelspec": {
   "display_name": "Matlab",
   "language": "matlab",
   "name": "matlab"
  },
  "language_info": {
   "codemirror_mode": "octave",
   "file_extension": ".m",
   "help_links": [
    {
     "text": "MetaKernel Magics",
     "url": "https://metakernel.readthedocs.io/en/latest/source/README.html"
    }
   ],
   "mimetype": "text/x-octave",
   "name": "matlab",
   "version": "0.16.7"
  }
 },
 "nbformat": 4,
 "nbformat_minor": 2
}
